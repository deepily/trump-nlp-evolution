{
 "cells": [
  {
   "cell_type": "code",
   "execution_count": 1,
   "metadata": {},
   "outputs": [],
   "source": [
    "import spacy\n",
    "import pickle\n",
    "from spacy import displacy"
   ]
  },
  {
   "cell_type": "code",
   "execution_count": 2,
   "metadata": {},
   "outputs": [
    {
     "name": "stdout",
     "output_type": "stream",
     "text": [
      "101\n",
      "112\n"
     ]
    }
   ],
   "source": [
    "tweets_by_year = None\n",
    "tweets_by_month = None\n",
    "\n",
    "tweets_month_file_name = 'data/tweets-by-month.data'\n",
    "tweets_window_file_name = 'data/tweets-by-window.data'\n",
    "\n",
    "with open( tweets_window_file_name, 'rb' ) as filehandle:  \n",
    "    \n",
    "    # read the data as binary data stream\n",
    "    tweets_by_year = pickle.load( filehandle )\n",
    "    \n",
    "with open( tweets_month_file_name, 'rb' ) as filehandle:  \n",
    "    \n",
    "    # read the data as binary data stream\n",
    "    tweets_by_month = pickle.load( filehandle )\n",
    "    \n",
    "print( len( tweets_by_year ) )\n",
    "print( len( tweets_by_month ) )"
   ]
  },
  {
   "cell_type": "code",
   "execution_count": 3,
   "metadata": {},
   "outputs": [],
   "source": [
    "nlp = spacy.load( 'en' )"
   ]
  },
  {
   "cell_type": "markdown",
   "metadata": {},
   "source": [
    "### Linguistic annotations"
   ]
  },
  {
   "cell_type": "code",
   "execution_count": 4,
   "metadata": {},
   "outputs": [
    {
     "name": "stdout",
     "output_type": "stream",
     "text": [
      "Apple PROPN nsubj\n",
      "is VERB aux\n",
      "looking VERB ROOT\n",
      "at ADP prep\n",
      "buying VERB pcomp\n",
      "U.K. PROPN compound\n",
      "startup NOUN dobj\n",
      "for ADP prep\n",
      "$ SYM quantmod\n",
      "1 NUM compound\n",
      "billion NUM pobj\n"
     ]
    }
   ],
   "source": [
    "doc = u'Apple is looking at buying U.K. startup for $1 billion'\n",
    "\n",
    "def print_pos( doc ):\n",
    "    \n",
    "    doc = nlp( doc )\n",
    "    \n",
    "    for token in doc:\n",
    "        print( token.text, token.pos_, token.dep_ )\n",
    "        \n",
    "print_pos( doc )        "
   ]
  },
  {
   "cell_type": "code",
   "execution_count": 5,
   "metadata": {},
   "outputs": [],
   "source": [
    "last_month = tweets_by_month[ -1 ]"
   ]
  },
  {
   "cell_type": "code",
   "execution_count": 6,
   "metadata": {},
   "outputs": [
    {
     "name": "stdout",
     "output_type": "stream",
     "text": [
      "2018-08-28 09:57:51 NASDAQ has just gone above 8000 for the first time in history!\n"
     ]
    }
   ],
   "source": [
    "print( last_month[ 0 ][ -1 ], last_month[ 1 ][ -1 ] )"
   ]
  },
  {
   "cell_type": "code",
   "execution_count": 7,
   "metadata": {},
   "outputs": [
    {
     "name": "stdout",
     "output_type": "stream",
     "text": [
      "NASDAQ PROPN nsubj\n",
      "has VERB aux\n",
      "just ADV advmod\n",
      "gone VERB ROOT\n",
      "above ADP prep\n",
      "8000 NUM pobj\n",
      "for ADP prep\n",
      "the DET det\n",
      "first ADJ amod\n",
      "time NOUN pobj\n",
      "in ADP prep\n",
      "history NOUN pobj\n",
      "! PUNCT punct\n"
     ]
    }
   ],
   "source": [
    "tweet = last_month[ 1 ][ -1 ]\n",
    "print_pos( tweet )"
   ]
  },
  {
   "cell_type": "markdown",
   "metadata": {},
   "source": [
    "### Tokenization"
   ]
  },
  {
   "cell_type": "code",
   "execution_count": 8,
   "metadata": {},
   "outputs": [
    {
     "name": "stdout",
     "output_type": "stream",
     "text": [
      "NASDAQ\n",
      "has\n",
      "just\n",
      "gone\n",
      "above\n",
      "8000\n",
      "for\n",
      "the\n",
      "first\n",
      "time\n",
      "in\n",
      "history\n",
      "!\n"
     ]
    }
   ],
   "source": [
    "def print_tokens( doc ):\n",
    "    \n",
    "    doc = nlp( doc )\n",
    "    for token in doc:\n",
    "        print( token.text )\n",
    "        \n",
    "tweet = last_month[ 1 ][ -1 ]\n",
    "print_tokens( tweet )        "
   ]
  },
  {
   "cell_type": "markdown",
   "metadata": {},
   "source": [
    "### PoS + Dependencies"
   ]
  },
  {
   "cell_type": "code",
   "execution_count": 9,
   "metadata": {},
   "outputs": [
    {
     "name": "stdout",
     "output_type": "stream",
     "text": [
      "NASDAQ nasdaq PROPN NNP nsubj XXXX True False\n",
      "has have VERB VBZ aux xxx True True\n",
      "just just ADV RB advmod xxxx True True\n",
      "gone go VERB VBN ROOT xxxx True False\n",
      "above above ADP IN prep xxxx True True\n",
      "8000 8000 NUM CD pobj dddd False False\n",
      "for for ADP IN prep xxx True True\n",
      "the the DET DT det xxx True True\n",
      "first first ADJ JJ amod xxxx True True\n",
      "time time NOUN NN pobj xxxx True False\n",
      "in in ADP IN prep xx True True\n",
      "history history NOUN NN pobj xxxx True False\n",
      "! ! PUNCT . punct ! False False\n"
     ]
    }
   ],
   "source": [
    "def print_pos_and_dependencies( doc ):\n",
    "\n",
    "    doc = nlp( doc )\n",
    "    for token in doc:\n",
    "        print( token.text, token.lemma_, token.pos_, token.tag_, token.dep_, token.shape_, token.is_alpha, token.is_stop )\n",
    "        \n",
    "print_pos_and_dependencies( tweet )        "
   ]
  },
  {
   "cell_type": "markdown",
   "metadata": {},
   "source": [
    "### Named Entities"
   ]
  },
  {
   "cell_type": "code",
   "execution_count": 10,
   "metadata": {},
   "outputs": [
    {
     "name": "stdout",
     "output_type": "stream",
     "text": [
      "NASDAQ 0 6 ORG\n",
      "8000 27 31 CARDINAL\n",
      "first 40 45 ORDINAL\n"
     ]
    }
   ],
   "source": [
    "def print_named_entities( doc ):\n",
    "    \n",
    "    doc = nlp( doc )\n",
    "    \n",
    "    for ent in doc.ents:\n",
    "        print( ent.text, ent.start_char, ent.end_char, ent.label_ )\n",
    "    \n",
    "print_named_entities( tweet )    "
   ]
  },
  {
   "cell_type": "markdown",
   "metadata": {},
   "source": [
    "### Visualize Parse"
   ]
  },
  {
   "cell_type": "code",
   "execution_count": 11,
   "metadata": {},
   "outputs": [
    {
     "name": "stdout",
     "output_type": "stream",
     "text": [
      "\n",
      "\u001b[93m    Serving on port 5000...\u001b[0m\n",
      "    Using the 'dep' visualizer\n",
      "\n",
      "\n",
      "    Shutting down server on port 5000.\n",
      "\n"
     ]
    }
   ],
   "source": [
    "doc = nlp( u'This is a sentence.' )\n",
    "displacy.serve( doc, style='dep' )"
   ]
  },
  {
   "cell_type": "markdown",
   "metadata": {},
   "source": [
    "### Word Vectors and Similarity"
   ]
  },
  {
   "cell_type": "code",
   "execution_count": 16,
   "metadata": {},
   "outputs": [
    {
     "name": "stdout",
     "output_type": "stream",
     "text": [
      "dog dog 1.0\n",
      "dog cat 0.53906965\n",
      "dog banana 0.28761008\n",
      "cat dog 0.53906965\n",
      "cat cat 1.0\n",
      "cat banana 0.48752162\n",
      "banana dog 0.28761008\n",
      "banana cat 0.48752162\n",
      "banana banana 1.0\n"
     ]
    }
   ],
   "source": [
    "tokens = u'dog cat banana'\n",
    "\n",
    "def print_similiary( tokens ):\n",
    "    \n",
    "    tokens = nlp( tokens )\n",
    "    for token1 in tokens:\n",
    "        for token2 in tokens:\n",
    "            print( token1.text, token2.text, token1.similarity( token2 ) )\n",
    "            \n",
    "print_similiary( tokens )            "
   ]
  },
  {
   "cell_type": "code",
   "execution_count": 17,
   "metadata": {},
   "outputs": [
    {
     "name": "stdout",
     "output_type": "stream",
     "text": [
      "rocks rocks 1.0\n",
      "rocks mountains 0.4934799\n",
      "mountains rocks 0.4934799\n",
      "mountains mountains 1.0\n"
     ]
    }
   ],
   "source": [
    "print_similiary( \"rocks mountains\" )"
   ]
  },
  {
   "cell_type": "code",
   "execution_count": 19,
   "metadata": {},
   "outputs": [
    {
     "name": "stdout",
     "output_type": "stream",
     "text": [
      "politician politician 1.0\n",
      "politician human 0.27011883\n",
      "human politician 0.27011883\n",
      "human human 1.0\n"
     ]
    }
   ],
   "source": [
    "print_similiary( \"politician human\" )"
   ]
  },
  {
   "cell_type": "code",
   "execution_count": null,
   "metadata": {},
   "outputs": [],
   "source": []
  }
 ],
 "metadata": {
  "kernelspec": {
   "display_name": "Python 3",
   "language": "python",
   "name": "python3"
  },
  "language_info": {
   "codemirror_mode": {
    "name": "ipython",
    "version": 3
   },
   "file_extension": ".py",
   "mimetype": "text/x-python",
   "name": "python",
   "nbconvert_exporter": "python",
   "pygments_lexer": "ipython3",
   "version": "3.7.0"
  }
 },
 "nbformat": 4,
 "nbformat_minor": 2
}

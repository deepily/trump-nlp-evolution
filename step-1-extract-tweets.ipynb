{
 "cells": [
  {
   "cell_type": "code",
   "execution_count": 1,
   "metadata": {},
   "outputs": [],
   "source": [
    "import pandas as pd\n",
    "import numpy as np"
   ]
  },
  {
   "cell_type": "code",
   "execution_count": 2,
   "metadata": {},
   "outputs": [
    {
     "data": {
      "text/html": [
       "<div>\n",
       "<style scoped>\n",
       "    .dataframe tbody tr th:only-of-type {\n",
       "        vertical-align: middle;\n",
       "    }\n",
       "\n",
       "    .dataframe tbody tr th {\n",
       "        vertical-align: top;\n",
       "    }\n",
       "\n",
       "    .dataframe thead th {\n",
       "        text-align: right;\n",
       "    }\n",
       "</style>\n",
       "<table border=\"1\" class=\"dataframe\">\n",
       "  <thead>\n",
       "    <tr style=\"text-align: right;\">\n",
       "      <th></th>\n",
       "      <th>text</th>\n",
       "      <th>created_at</th>\n",
       "      <th>year</th>\n",
       "      <th>month</th>\n",
       "      <th>day</th>\n",
       "      <th>hour</th>\n",
       "      <th>minute</th>\n",
       "    </tr>\n",
       "  </thead>\n",
       "  <tbody>\n",
       "    <tr>\n",
       "      <th>0</th>\n",
       "      <td>Be sure to tune in and watch Donald Trump on L...</td>\n",
       "      <td>2009-05-04 18:54:25</td>\n",
       "      <td>2009</td>\n",
       "      <td>5</td>\n",
       "      <td>4</td>\n",
       "      <td>18</td>\n",
       "      <td>54</td>\n",
       "    </tr>\n",
       "    <tr>\n",
       "      <th>1</th>\n",
       "      <td>Donald Trump will be appearing on The View tom...</td>\n",
       "      <td>2009-05-05 01:00:10</td>\n",
       "      <td>2009</td>\n",
       "      <td>5</td>\n",
       "      <td>5</td>\n",
       "      <td>1</td>\n",
       "      <td>0</td>\n",
       "    </tr>\n",
       "    <tr>\n",
       "      <th>2</th>\n",
       "      <td>Donald Trump reads Top Ten Financial Tips on L...</td>\n",
       "      <td>2009-05-08 13:38:08</td>\n",
       "      <td>2009</td>\n",
       "      <td>5</td>\n",
       "      <td>8</td>\n",
       "      <td>13</td>\n",
       "      <td>38</td>\n",
       "    </tr>\n",
       "    <tr>\n",
       "      <th>3</th>\n",
       "      <td>New Blog Post: Celebrity Apprentice Finale and...</td>\n",
       "      <td>2009-05-08 20:40:15</td>\n",
       "      <td>2009</td>\n",
       "      <td>5</td>\n",
       "      <td>8</td>\n",
       "      <td>20</td>\n",
       "      <td>40</td>\n",
       "    </tr>\n",
       "    <tr>\n",
       "      <th>4</th>\n",
       "      <td>My persona will never be that of a wallflower ...</td>\n",
       "      <td>2009-05-12 14:07:28</td>\n",
       "      <td>2009</td>\n",
       "      <td>5</td>\n",
       "      <td>12</td>\n",
       "      <td>14</td>\n",
       "      <td>7</td>\n",
       "    </tr>\n",
       "  </tbody>\n",
       "</table>\n",
       "</div>"
      ],
      "text/plain": [
       "                                                text           created_at  \\\n",
       "0  Be sure to tune in and watch Donald Trump on L...  2009-05-04 18:54:25   \n",
       "1  Donald Trump will be appearing on The View tom...  2009-05-05 01:00:10   \n",
       "2  Donald Trump reads Top Ten Financial Tips on L...  2009-05-08 13:38:08   \n",
       "3  New Blog Post: Celebrity Apprentice Finale and...  2009-05-08 20:40:15   \n",
       "4  My persona will never be that of a wallflower ...  2009-05-12 14:07:28   \n",
       "\n",
       "   year  month  day  hour  minute  \n",
       "0  2009      5    4    18      54  \n",
       "1  2009      5    5     1       0  \n",
       "2  2009      5    8    13      38  \n",
       "3  2009      5    8    20      40  \n",
       "4  2009      5   12    14       7  "
      ]
     },
     "execution_count": 2,
     "metadata": {},
     "output_type": "execute_result"
    }
   ],
   "source": [
    "tweets = pd.read_csv( \"data/tweets-clean.csv\" )\n",
    "tweets.head()"
   ]
  },
  {
   "cell_type": "markdown",
   "metadata": {},
   "source": [
    "### Group Tweets by Year and Month"
   ]
  },
  {
   "cell_type": "code",
   "execution_count": 21,
   "metadata": {},
   "outputs": [],
   "source": [
    "tweets_grp = tweets.groupby( [ \"year\", \"month\" ] )"
   ]
  },
  {
   "cell_type": "markdown",
   "metadata": {},
   "source": [
    "### Get Grouped Tweets by Tuple Index ( year, month )"
   ]
  },
  {
   "cell_type": "code",
   "execution_count": 22,
   "metadata": {},
   "outputs": [
    {
     "data": {
      "text/html": [
       "<div>\n",
       "<style scoped>\n",
       "    .dataframe tbody tr th:only-of-type {\n",
       "        vertical-align: middle;\n",
       "    }\n",
       "\n",
       "    .dataframe tbody tr th {\n",
       "        vertical-align: top;\n",
       "    }\n",
       "\n",
       "    .dataframe thead th {\n",
       "        text-align: right;\n",
       "    }\n",
       "</style>\n",
       "<table border=\"1\" class=\"dataframe\">\n",
       "  <thead>\n",
       "    <tr style=\"text-align: right;\">\n",
       "      <th></th>\n",
       "      <th>text</th>\n",
       "      <th>created_at</th>\n",
       "    </tr>\n",
       "  </thead>\n",
       "  <tbody>\n",
       "    <tr>\n",
       "      <th>0</th>\n",
       "      <td>Be sure to tune in and watch Donald Trump on L...</td>\n",
       "      <td>2009-05-04 18:54:25</td>\n",
       "    </tr>\n",
       "    <tr>\n",
       "      <th>1</th>\n",
       "      <td>Donald Trump will be appearing on The View tom...</td>\n",
       "      <td>2009-05-05 01:00:10</td>\n",
       "    </tr>\n",
       "    <tr>\n",
       "      <th>2</th>\n",
       "      <td>Donald Trump reads Top Ten Financial Tips on L...</td>\n",
       "      <td>2009-05-08 13:38:08</td>\n",
       "    </tr>\n",
       "    <tr>\n",
       "      <th>3</th>\n",
       "      <td>New Blog Post: Celebrity Apprentice Finale and...</td>\n",
       "      <td>2009-05-08 20:40:15</td>\n",
       "    </tr>\n",
       "    <tr>\n",
       "      <th>4</th>\n",
       "      <td>My persona will never be that of a wallflower ...</td>\n",
       "      <td>2009-05-12 14:07:28</td>\n",
       "    </tr>\n",
       "  </tbody>\n",
       "</table>\n",
       "</div>"
      ],
      "text/plain": [
       "                                                text           created_at\n",
       "0  Be sure to tune in and watch Donald Trump on L...  2009-05-04 18:54:25\n",
       "1  Donald Trump will be appearing on The View tom...  2009-05-05 01:00:10\n",
       "2  Donald Trump reads Top Ten Financial Tips on L...  2009-05-08 13:38:08\n",
       "3  New Blog Post: Celebrity Apprentice Finale and...  2009-05-08 20:40:15\n",
       "4  My persona will never be that of a wallflower ...  2009-05-12 14:07:28"
      ]
     },
     "execution_count": 22,
     "metadata": {},
     "output_type": "execute_result"
    }
   ],
   "source": [
    "# get tweet and date by tuple index\n",
    "# from: https://stackoverflow.com/questions/14734533/how-to-access-pandas-groupby-dataframe-by-key\n",
    "tweets_grp.get_group( ( 2009, 5 ) )[ [\"text\", \"created_at\"] ].head()"
   ]
  },
  {
   "cell_type": "markdown",
   "metadata": {},
   "source": [
    "### Get Tweets for One Month As List"
   ]
  },
  {
   "cell_type": "code",
   "execution_count": 26,
   "metadata": {},
   "outputs": [
    {
     "name": "stdout",
     "output_type": "stream",
     "text": [
      "Read an excerpt from Think Like A Champion by Donald J. Trump: http://bit.ly/11FHpR\n"
     ]
    }
   ],
   "source": [
    "tweets_one_month = tweets_grp.get_group( ( 2009, 5 ) )[ \"text\" ].tolist()\n",
    "print( tweets_one_month[ -2 ] )"
   ]
  },
  {
   "cell_type": "markdown",
   "metadata": {},
   "source": [
    "### Get List of Key Tuples"
   ]
  },
  {
   "cell_type": "code",
   "execution_count": 6,
   "metadata": {},
   "outputs": [
    {
     "name": "stdout",
     "output_type": "stream",
     "text": [
      "112\n",
      "[(2009, 5), (2009, 6), (2009, 7), (2009, 8), (2009, 9), (2009, 10), (2009, 11)]\n"
     ]
    }
   ],
   "source": [
    "tweets_grp_keys = []\n",
    "\n",
    "for year_month, grouped in tweets_grp:\n",
    "    #year, month = year_month # get tuple as atomic values\n",
    "    #print( year, month )\n",
    "    tweets_grp_keys.append( year_month )\n",
    "    \n",
    "print( len( tweets_grp_keys ) )\n",
    "print( tweets_grp_keys[ :7 ] )"
   ]
  },
  {
   "cell_type": "markdown",
   "metadata": {},
   "source": [
    "### Get One Month of Tweets as List"
   ]
  },
  {
   "cell_type": "code",
   "execution_count": 7,
   "metadata": {},
   "outputs": [
    {
     "data": {
      "text/plain": [
       "'Be sure to tune in and watch Donald Trump on Late Night with David Letterman as he presents the Top Ten List tonight!'"
      ]
     },
     "execution_count": 7,
     "metadata": {},
     "output_type": "execute_result"
    }
   ],
   "source": [
    "one_month = tweets_grp.get_group( (2009, 5) )[ \"text\" ].tolist()\n",
    "one_month[ 0 ]"
   ]
  },
  {
   "cell_type": "markdown",
   "metadata": {},
   "source": [
    "### Iterate Grouped Tweets 12 Months at a Time"
   ]
  },
  {
   "cell_type": "code",
   "execution_count": 8,
   "metadata": {},
   "outputs": [
    {
     "name": "stdout",
     "output_type": "stream",
     "text": [
      "(2009, 5)\n",
      "(2009, 6)\n"
     ]
    },
    {
     "data": {
      "text/plain": [
       "(2018, 8)"
      ]
     },
     "execution_count": 8,
     "metadata": {},
     "output_type": "execute_result"
    }
   ],
   "source": [
    "print( tweets_grp_keys[ 0 ] )\n",
    "print( tweets_grp_keys[ 1 ] )\n",
    "len( tweets_grp_keys )\n",
    "# look at last key\n",
    "tweets_grp_keys[ -1 ]"
   ]
  },
  {
   "cell_type": "code",
   "execution_count": 9,
   "metadata": {},
   "outputs": [],
   "source": [
    "def get_tweets_by_windows( window_size=12, debug=False, early_exit=False, early_exit_idx=42, verbose=False ):\n",
    "    \n",
    "    \"\"\" Calculates and returns a list of tweets w/ dates w/in a rolling 12 month (default) window.\n",
    "    NOTE: windowing stops after fill the last whole window.  Does *not* continue to create decreasingly\n",
    "    less full windows of fixed length until the very last window only contains one month.  On the contrary:\n",
    "    Once the right most boundary of the window reaches the \"right most\" element, it exits.\\\n",
    "    \n",
    "    ¿Capiche?\n",
    "    \"\"\"\n",
    "    \n",
    "    window_start = 0\n",
    "    \n",
    "    months_tweets = None\n",
    "    months_dates  = None\n",
    "\n",
    "    tweets_in_window = []\n",
    "    all_windows = []\n",
    "    zipped_tweets = None\n",
    "\n",
    "    counter = 0\n",
    "    month_counter = 0\n",
    "    tweets_key = None\n",
    "    # get last key\n",
    "    stop_key = tweets_grp_keys[ -1 ]\n",
    "    #stop_key = ( 2018, 5 )\n",
    "    \n",
    "    while tweets_key != stop_key: \n",
    "\n",
    "        # get previously calculated key from list\n",
    "        tweets_key = tweets_grp_keys[ window_start + month_counter ]\n",
    "        # get one months worth of tweets...\n",
    "        months_tweets = tweets_grp.get_group( tweets_key )[ \"text\" ].tolist()\n",
    "        # ...and dates\n",
    "        months_dates  = tweets_grp.get_group( tweets_key )[ \"created_at\" ].tolist()\n",
    "\n",
    "        if debug and verbose: print( \"window_start {}, tweets_key {}, tweet count {}\".format( window_start, tweets_key, len( months_tweets ) ) )\n",
    "\n",
    "        # zip up tweets and dates for intermediate storage\n",
    "        #zipped_tweets = zip( months_dates, months_tweets )\n",
    "\n",
    "        # append to 12 month window list...\n",
    "        #tweets_in_window.append( zipped_tweets )\n",
    "        tweets_in_window.append( ( months_dates, months_tweets ) )\n",
    "            \n",
    "        # have we finished one year's worth of months?\n",
    "        # first case: our first window\n",
    "        if counter == window_size - 1:\n",
    "            \n",
    "            window_start = 1\n",
    "            month_counter = 0\n",
    "            # append window to list of all windows\n",
    "            all_windows.append( tweets_in_window )\n",
    "            # reset window for next 12 months of tweets\n",
    "            tweets_in_window = []\n",
    "            if debug: print( \"1) Counter {}, starting new window at {}\".format( counter, window_start ) )\n",
    "            \n",
    "        elif ( counter > window_size and ( counter + 1 ) % window_size == 0 ):\n",
    "\n",
    "            # reset the beginning of the window to \n",
    "            window_start = ( counter + 1 ) // window_size\n",
    "            month_counter = 0\n",
    "\n",
    "            # append window to list of all windows\n",
    "            all_windows.append( tweets_in_window )\n",
    "            # reset window for next 12 months of tweets\n",
    "            tweets_in_window = []\n",
    "\n",
    "            if debug: print( \"2) Counter {}, starting new window at {}\".format( counter, window_start ) )\n",
    "\n",
    "        else:\n",
    "\n",
    "            month_counter += 1\n",
    "\n",
    "        # debuggery: allows us to test and bail early\n",
    "        if early_exit and counter > early_exit_idx:\n",
    "            break\n",
    "        counter += 1\n",
    "\n",
    "    return all_windows\n",
    "\n",
    "# %time throws SyntaxError.  Wuh?!? This worked for days until now ( Thursday, December 6th @ 12:37 )\n",
    "tweets_by_year = get_tweets_by_windows( debug=False )"
   ]
  },
  {
   "cell_type": "code",
   "execution_count": 27,
   "metadata": {},
   "outputs": [
    {
     "name": "stdout",
     "output_type": "stream",
     "text": [
      "CPU times: user 94.1 ms, sys: 4.01 ms, total: 98.1 ms\n",
      "Wall time: 93.6 ms\n"
     ]
    }
   ],
   "source": [
    "def get_tweets_by_months( debug=False ):\n",
    "    \n",
    "    \"\"\" Calculates and returns a monthly list of tweets w/ dates\"\"\"\n",
    "    \n",
    "    #window_start = 0\n",
    "    \n",
    "    months_tweets = None\n",
    "    months_dates  = None\n",
    "    \n",
    "    all_months = []\n",
    "    zipped_tweets = None\n",
    "    \n",
    "    for tweets_key in tweets_grp_keys:\n",
    "\n",
    "        # get one months worth of tweets...\n",
    "        months_tweets = tweets_grp.get_group( tweets_key )[ \"text\" ].tolist()\n",
    "        # ...and dates\n",
    "        months_dates  = tweets_grp.get_group( tweets_key )[ \"created_at\" ].tolist()\n",
    "\n",
    "        if debug: print( \"Tweets_key {}, tweet count {}\".format( tweets_key, len( months_tweets ) ) )\n",
    "\n",
    "        # zip up tweets and dates for intermediate storage\n",
    "        #zipped_tweets = zip( months_dates, months_tweets )\n",
    "\n",
    "        # ...and to a list of months\n",
    "        #all_months.append( zipped_tweets )\n",
    "        all_months.append( ( months_dates, months_tweets ) )\n",
    "        \n",
    "    return all_months\n",
    "\n",
    "%time tweets_by_month = get_tweets_by_months( False )"
   ]
  },
  {
   "cell_type": "code",
   "execution_count": 11,
   "metadata": {},
   "outputs": [],
   "source": [
    "# #one_window = tweets_by_year[ 0 ]\n",
    "# one_month = tweets_by_month[ -1 ]\n",
    "# # unzips list: https://stackoverflow.com/questions/12974474/how-to-unzip-a-list-of-tuples-into-individual-lists\n",
    "# one_month_list = list( zip( *one_month ) )"
   ]
  },
  {
   "cell_type": "code",
   "execution_count": 12,
   "metadata": {},
   "outputs": [],
   "source": [
    "# print( one_month_list[ 0 ][ -2 ] )\n",
    "# print( one_month_list[ 1 ][ -2 ] )"
   ]
  },
  {
   "cell_type": "markdown",
   "metadata": {},
   "source": [
    "### Write Both Lists to File"
   ]
  },
  {
   "cell_type": "code",
   "execution_count": 28,
   "metadata": {},
   "outputs": [],
   "source": [
    "import pickle\n",
    "\n",
    "tweets_window_file_name = 'data/tweets-by-window.data'\n",
    "\n",
    "with open( tweets_window_file_name, 'wb' ) as filehandle:  \n",
    "    # store the data as binary data stream\n",
    "    pickle.dump( tweets_by_year, filehandle )\n",
    "    \n",
    "tweets_month_file_name = 'data/tweets-by-month.data'\n",
    "\n",
    "with open( tweets_month_file_name, 'wb' ) as filehandle:  \n",
    "    # store the data as binary data stream\n",
    "    pickle.dump( tweets_by_month, filehandle )\n",
    "    "
   ]
  },
  {
   "cell_type": "code",
   "execution_count": 29,
   "metadata": {},
   "outputs": [
    {
     "name": "stdout",
     "output_type": "stream",
     "text": [
      "101\n",
      "112\n"
     ]
    }
   ],
   "source": [
    "tweets_by_year = None\n",
    "tweets_by_month = None\n",
    "\n",
    "with open( tweets_window_file_name, 'rb' ) as filehandle:  \n",
    "    \n",
    "    # read the data as binary data stream\n",
    "    tweets_by_year = pickle.load( filehandle )\n",
    "    \n",
    "with open( tweets_month_file_name, 'rb' ) as filehandle:  \n",
    "    \n",
    "    # read the data as binary data stream\n",
    "    tweets_by_month = pickle.load( filehandle )\n",
    "    \n",
    "print( len( tweets_by_year ) )\n",
    "print( len( tweets_by_month ) )"
   ]
  },
  {
   "cell_type": "code",
   "execution_count": null,
   "metadata": {
    "collapsed": true
   },
   "outputs": [],
   "source": []
  }
 ],
 "metadata": {
  "kernelspec": {
   "display_name": "Python 3",
   "language": "python",
   "name": "python3"
  },
  "language_info": {
   "codemirror_mode": {
    "name": "ipython",
    "version": 3
   },
   "file_extension": ".py",
   "mimetype": "text/x-python",
   "name": "python",
   "nbconvert_exporter": "python",
   "pygments_lexer": "ipython3",
   "version": "3.7.0"
  }
 },
 "nbformat": 4,
 "nbformat_minor": 1
}

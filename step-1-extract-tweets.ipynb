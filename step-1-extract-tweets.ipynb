{
 "cells": [
  {
   "cell_type": "code",
   "execution_count": 1,
   "metadata": {
    "collapsed": true
   },
   "outputs": [],
   "source": [
    "import pandas as pd\n",
    "import numpy as np"
   ]
  },
  {
   "cell_type": "code",
   "execution_count": 2,
   "metadata": {
    "collapsed": false
   },
   "outputs": [
    {
     "data": {
      "text/html": [
       "<div>\n",
       "<table border=\"1\" class=\"dataframe\">\n",
       "  <thead>\n",
       "    <tr style=\"text-align: right;\">\n",
       "      <th></th>\n",
       "      <th>text</th>\n",
       "      <th>created_at</th>\n",
       "      <th>year</th>\n",
       "      <th>month</th>\n",
       "      <th>day</th>\n",
       "      <th>hour</th>\n",
       "      <th>minute</th>\n",
       "    </tr>\n",
       "  </thead>\n",
       "  <tbody>\n",
       "    <tr>\n",
       "      <th>0</th>\n",
       "      <td>Be sure to tune in and watch Donald Trump on L...</td>\n",
       "      <td>2009-05-04 18:54:25</td>\n",
       "      <td>2009</td>\n",
       "      <td>5</td>\n",
       "      <td>4</td>\n",
       "      <td>18</td>\n",
       "      <td>54</td>\n",
       "    </tr>\n",
       "    <tr>\n",
       "      <th>1</th>\n",
       "      <td>Donald Trump will be appearing on The View tom...</td>\n",
       "      <td>2009-05-05 01:00:10</td>\n",
       "      <td>2009</td>\n",
       "      <td>5</td>\n",
       "      <td>5</td>\n",
       "      <td>1</td>\n",
       "      <td>0</td>\n",
       "    </tr>\n",
       "    <tr>\n",
       "      <th>2</th>\n",
       "      <td>Donald Trump reads Top Ten Financial Tips on L...</td>\n",
       "      <td>2009-05-08 13:38:08</td>\n",
       "      <td>2009</td>\n",
       "      <td>5</td>\n",
       "      <td>8</td>\n",
       "      <td>13</td>\n",
       "      <td>38</td>\n",
       "    </tr>\n",
       "    <tr>\n",
       "      <th>3</th>\n",
       "      <td>New Blog Post: Celebrity Apprentice Finale and...</td>\n",
       "      <td>2009-05-08 20:40:15</td>\n",
       "      <td>2009</td>\n",
       "      <td>5</td>\n",
       "      <td>8</td>\n",
       "      <td>20</td>\n",
       "      <td>40</td>\n",
       "    </tr>\n",
       "    <tr>\n",
       "      <th>4</th>\n",
       "      <td>My persona will never be that of a wallflower ...</td>\n",
       "      <td>2009-05-12 14:07:28</td>\n",
       "      <td>2009</td>\n",
       "      <td>5</td>\n",
       "      <td>12</td>\n",
       "      <td>14</td>\n",
       "      <td>7</td>\n",
       "    </tr>\n",
       "  </tbody>\n",
       "</table>\n",
       "</div>"
      ],
      "text/plain": [
       "                                                text           created_at  \\\n",
       "0  Be sure to tune in and watch Donald Trump on L...  2009-05-04 18:54:25   \n",
       "1  Donald Trump will be appearing on The View tom...  2009-05-05 01:00:10   \n",
       "2  Donald Trump reads Top Ten Financial Tips on L...  2009-05-08 13:38:08   \n",
       "3  New Blog Post: Celebrity Apprentice Finale and...  2009-05-08 20:40:15   \n",
       "4  My persona will never be that of a wallflower ...  2009-05-12 14:07:28   \n",
       "\n",
       "   year  month  day  hour  minute  \n",
       "0  2009      5    4    18      54  \n",
       "1  2009      5    5     1       0  \n",
       "2  2009      5    8    13      38  \n",
       "3  2009      5    8    20      40  \n",
       "4  2009      5   12    14       7  "
      ]
     },
     "execution_count": 2,
     "metadata": {},
     "output_type": "execute_result"
    }
   ],
   "source": [
    "tweets = pd.read_csv( \"data/tweets-clean.csv\" )\n",
    "tweets.head()"
   ]
  },
  {
   "cell_type": "markdown",
   "metadata": {},
   "source": [
    "### Group Tweets by Year and Month"
   ]
  },
  {
   "cell_type": "code",
   "execution_count": 3,
   "metadata": {
    "collapsed": false
   },
   "outputs": [],
   "source": [
    "tweets_grp = tweets.groupby( [ \"year\", \"month\" ] )"
   ]
  },
  {
   "cell_type": "markdown",
   "metadata": {},
   "source": [
    "### Get Grouped Tweets by Tuple Index ( year, month )"
   ]
  },
  {
   "cell_type": "code",
   "execution_count": 4,
   "metadata": {
    "collapsed": false
   },
   "outputs": [
    {
     "data": {
      "text/html": [
       "<div>\n",
       "<table border=\"1\" class=\"dataframe\">\n",
       "  <thead>\n",
       "    <tr style=\"text-align: right;\">\n",
       "      <th></th>\n",
       "      <th>text</th>\n",
       "      <th>created_at</th>\n",
       "    </tr>\n",
       "  </thead>\n",
       "  <tbody>\n",
       "    <tr>\n",
       "      <th>0</th>\n",
       "      <td>Be sure to tune in and watch Donald Trump on L...</td>\n",
       "      <td>2009-05-04 18:54:25</td>\n",
       "    </tr>\n",
       "    <tr>\n",
       "      <th>1</th>\n",
       "      <td>Donald Trump will be appearing on The View tom...</td>\n",
       "      <td>2009-05-05 01:00:10</td>\n",
       "    </tr>\n",
       "    <tr>\n",
       "      <th>2</th>\n",
       "      <td>Donald Trump reads Top Ten Financial Tips on L...</td>\n",
       "      <td>2009-05-08 13:38:08</td>\n",
       "    </tr>\n",
       "    <tr>\n",
       "      <th>3</th>\n",
       "      <td>New Blog Post: Celebrity Apprentice Finale and...</td>\n",
       "      <td>2009-05-08 20:40:15</td>\n",
       "    </tr>\n",
       "    <tr>\n",
       "      <th>4</th>\n",
       "      <td>My persona will never be that of a wallflower ...</td>\n",
       "      <td>2009-05-12 14:07:28</td>\n",
       "    </tr>\n",
       "  </tbody>\n",
       "</table>\n",
       "</div>"
      ],
      "text/plain": [
       "                                                text           created_at\n",
       "0  Be sure to tune in and watch Donald Trump on L...  2009-05-04 18:54:25\n",
       "1  Donald Trump will be appearing on The View tom...  2009-05-05 01:00:10\n",
       "2  Donald Trump reads Top Ten Financial Tips on L...  2009-05-08 13:38:08\n",
       "3  New Blog Post: Celebrity Apprentice Finale and...  2009-05-08 20:40:15\n",
       "4  My persona will never be that of a wallflower ...  2009-05-12 14:07:28"
      ]
     },
     "execution_count": 4,
     "metadata": {},
     "output_type": "execute_result"
    }
   ],
   "source": [
    "# get tweet and date by tuple index\n",
    "# from: https://stackoverflow.com/questions/14734533/how-to-access-pandas-groupby-dataframe-by-key\n",
    "tweets_grp.get_group( ( 2009, 5 ) )[ [\"text\", \"created_at\"] ].head()"
   ]
  },
  {
   "cell_type": "markdown",
   "metadata": {},
   "source": [
    "### Get Tweets for One Month As List"
   ]
  },
  {
   "cell_type": "code",
   "execution_count": 5,
   "metadata": {
    "collapsed": false
   },
   "outputs": [
    {
     "data": {
      "text/plain": [
       "'You have to know when to call it quits and when to keep moving forward. --Donald J. Trump http://www.trumpthinklikeachampion.com'"
      ]
     },
     "execution_count": 5,
     "metadata": {},
     "output_type": "execute_result"
    }
   ],
   "source": [
    "tweets_one_month = tweets_grp.get_group( ( 2009, 5 ) )[ \"text\" ].tolist()\n",
    "tweets_one_month[ -1 ]"
   ]
  },
  {
   "cell_type": "markdown",
   "metadata": {},
   "source": [
    "### Get List of Keys (Tuples)"
   ]
  },
  {
   "cell_type": "code",
   "execution_count": 6,
   "metadata": {
    "collapsed": false
   },
   "outputs": [
    {
     "name": "stdout",
     "output_type": "stream",
     "text": [
      "112\n",
      "[(2009, 5), (2009, 6), (2009, 7), (2009, 8), (2009, 9), (2009, 10), (2009, 11)]\n"
     ]
    }
   ],
   "source": [
    "tweets_grp_keys = []\n",
    "\n",
    "for year_month, grouped in tweets_grp:\n",
    "    #year, month = year_month # get tuple as atomic values\n",
    "    #print( year, month )\n",
    "    tweets_grp_keys.append( year_month )\n",
    "    \n",
    "print( len( tweets_grp_keys ) )\n",
    "print( tweets_grp_keys[ :7 ] )"
   ]
  },
  {
   "cell_type": "markdown",
   "metadata": {},
   "source": [
    "### Get One Month of Tweets as List"
   ]
  },
  {
   "cell_type": "code",
   "execution_count": 7,
   "metadata": {
    "collapsed": false
   },
   "outputs": [
    {
     "data": {
      "text/plain": [
       "'Be sure to tune in and watch Donald Trump on Late Night with David Letterman as he presents the Top Ten List tonight!'"
      ]
     },
     "execution_count": 7,
     "metadata": {},
     "output_type": "execute_result"
    }
   ],
   "source": [
    "one_month = tweets_grp.get_group( (2009, 5) )[ \"text\" ].tolist()\n",
    "one_month[ 0 ]"
   ]
  },
  {
   "cell_type": "markdown",
   "metadata": {},
   "source": [
    "### Iterate Grouped Tweets 12 Months at a Time"
   ]
  },
  {
   "cell_type": "code",
   "execution_count": 43,
   "metadata": {
    "collapsed": false
   },
   "outputs": [
    {
     "name": "stdout",
     "output_type": "stream",
     "text": [
      "(2009, 5)\n",
      "(2009, 6)\n"
     ]
    },
    {
     "data": {
      "text/plain": [
       "112"
      ]
     },
     "execution_count": 43,
     "metadata": {},
     "output_type": "execute_result"
    }
   ],
   "source": [
    "print( tweets_grp_keys[ 0 ] )\n",
    "print( tweets_grp_keys[ 1 ] )\n",
    "len( tweets_grp_keys )"
   ]
  },
  {
   "cell_type": "code",
   "execution_count": 47,
   "metadata": {
    "collapsed": false
   },
   "outputs": [
    {
     "data": {
      "text/plain": [
       "(2018, 8)"
      ]
     },
     "execution_count": 47,
     "metadata": {},
     "output_type": "execute_result"
    }
   ],
   "source": [
    "stop_key = tweets_grp_keys[ -1 ]\n",
    "stop_key"
   ]
  },
  {
   "cell_type": "code",
   "execution_count": 92,
   "metadata": {
    "collapsed": false
   },
   "outputs": [
    {
     "name": "stdout",
     "output_type": "stream",
     "text": [
      "CPU times: user 935 ms, sys: 11 ms, total: 946 ms\n",
      "Wall time: 971 ms\n"
     ]
    }
   ],
   "source": [
    "def get_tweets_by_windows( window_size=12, debug=False, verbose=False ):\n",
    "    \n",
    "    \"\"\" Calculates and returns a list of tweets w/ dates w/in a rolling 12 month window\"\"\"\n",
    "    \n",
    "    window_start = 0\n",
    "    \n",
    "    months_tweets = None\n",
    "    months_dates  = None\n",
    "\n",
    "    tweets_in_window = []\n",
    "    all_windows = []\n",
    "    #all_months = []\n",
    "    zipped_tweets = None\n",
    "\n",
    "    counter = 0\n",
    "    month_counter = 0\n",
    "    tweets_key = None\n",
    "    # get last key\n",
    "    stop_key = tweets_grp_keys[ -1 ]\n",
    "    \n",
    "    while tweets_key != stop_key: \n",
    "\n",
    "        # get previously calculated key from list\n",
    "        tweets_key = tweets_grp_keys[ window_start + month_counter ]\n",
    "        # get one months worth of tweets...\n",
    "        months_tweets = tweets_grp.get_group( tweets_key )[ \"text\" ].tolist()\n",
    "        # ...and dates\n",
    "        months_dates  = tweets_grp.get_group( tweets_key )[ \"created_at\" ].tolist()\n",
    "\n",
    "        if debug and verbose: print( \"window_start {}, tweets_key {}, tweet count {}\".format( window_start, tweets_key, len( months_tweets ) ) )\n",
    "\n",
    "        # zip up tweets and dates for intermediate storage\n",
    "        zipped_tweets = zip( months_dates, months_tweets )\n",
    "\n",
    "        # append to 12 month window list...\n",
    "        tweets_in_window.append( zipped_tweets )\n",
    "        \n",
    "        # have we finished one year's worth of months?\n",
    "        # first case: our first window\n",
    "        if counter == window_size - 1:\n",
    "            \n",
    "            window_start = 1\n",
    "            month_counter = 0\n",
    "            # append window to list of all windows\n",
    "            all_windows.append( tweets_in_window )\n",
    "            # reset window for next 12 months of tweets\n",
    "            tweets_in_window = []\n",
    "            if debug: print( \"1) Counter {}, starting new window at {}\".format( counter, window_start ) )\n",
    "            \n",
    "        elif ( counter > window_size and ( counter + 1 ) % window_size == 0 ):\n",
    "\n",
    "            # reset the beginning of the window to \n",
    "            window_start = ( counter + 1 ) // window_size\n",
    "            month_counter = 0\n",
    "\n",
    "            # append window to list of all windows\n",
    "            all_windows.append( tweets_in_window )\n",
    "            # reset window for next 12 months of tweets\n",
    "            tweets_in_window = []\n",
    "\n",
    "            if debug: print( \"2) Counter {}, starting new window at {}\".format( counter, window_start ) )\n",
    "        \n",
    "        else:\n",
    "            \n",
    "            month_counter += 1\n",
    "        \n",
    "#         if counter > 49:\n",
    "#             break\n",
    "        counter += 1\n",
    "        \n",
    "        \n",
    "    return all_windows\n",
    "\n",
    "%time tweets_by_year = get_tweets_by_windows( debug=False )\n",
    "\n"
   ]
  },
  {
   "cell_type": "code",
   "execution_count": 98,
   "metadata": {
    "collapsed": false
   },
   "outputs": [
    {
     "name": "stdout",
     "output_type": "stream",
     "text": [
      "CPU times: user 94.2 ms, sys: 6.47 ms, total: 101 ms\n",
      "Wall time: 101 ms\n"
     ]
    }
   ],
   "source": [
    "def get_tweets_by_months( debug=False ):\n",
    "    \n",
    "    \"\"\" Calculates and returns a monthly list of tweets w/ dates\"\"\"\n",
    "    \n",
    "    #window_start = 0\n",
    "    \n",
    "    months_tweets = None\n",
    "    months_dates  = None\n",
    "    \n",
    "    all_months = []\n",
    "    zipped_tweets = None\n",
    "    \n",
    "    for tweets_key in tweets_grp_keys:\n",
    "\n",
    "        # get one months worth of tweets...\n",
    "        months_tweets = tweets_grp.get_group( tweets_key )[ \"text\" ].tolist()\n",
    "        # ...and dates\n",
    "        months_dates  = tweets_grp.get_group( tweets_key )[ \"created_at\" ].tolist()\n",
    "\n",
    "        if debug: print( \"Tweets_key {}, tweet count {}\".format( tweets_key, len( months_tweets ) ) )\n",
    "\n",
    "        # zip up tweets and dates for intermediate storage\n",
    "        zipped_tweets = zip( months_dates, months_tweets )\n",
    "\n",
    "        # ...and to a list of months\n",
    "        all_months.append( zipped_tweets )\n",
    "        \n",
    "    return all_months\n",
    "\n",
    "%time tweets_by_month = get_tweets_by_months( False )\n",
    "\n"
   ]
  },
  {
   "cell_type": "code",
   "execution_count": 89,
   "metadata": {
    "collapsed": false
   },
   "outputs": [
    {
     "ename": "SyntaxError",
     "evalue": "unexpected EOF while parsing (<ipython-input-89-52d4d6d5266c>, line 5)",
     "output_type": "error",
     "traceback": [
      "\u001b[0;36m  File \u001b[0;32m\"<ipython-input-89-52d4d6d5266c>\"\u001b[0;36m, line \u001b[0;32m5\u001b[0m\n\u001b[0;31m    #dates, tweets = zip( *last_year[ -1 ] )\u001b[0m\n\u001b[0m                                            ^\u001b[0m\n\u001b[0;31mSyntaxError\u001b[0m\u001b[0;31m:\u001b[0m unexpected EOF while parsing\n"
     ]
    }
   ],
   "source": [
    "last_year = tweets_by_year[ -1 ]\n",
    "last_month = last_year[ -1 ]\n",
    "list( zip( *last_month ) \n",
    "#dates, tweets = zip( *last_month )\n",
    "#dates, tweets = zip( *last_year[ -1 ] )"
   ]
  },
  {
   "cell_type": "code",
   "execution_count": 99,
   "metadata": {
    "collapsed": false
   },
   "outputs": [
    {
     "data": {
      "text/plain": [
       "[('2009-05-04 18:54:25',\n",
       "  '2009-05-05 01:00:10',\n",
       "  '2009-05-08 13:38:08',\n",
       "  '2009-05-08 20:40:15',\n",
       "  '2009-05-12 14:07:28',\n",
       "  '2009-05-12 19:21:55',\n",
       "  '2009-05-13 17:38:28',\n",
       "  '2009-05-14 16:30:40',\n",
       "  '2009-05-15 14:13:13',\n",
       "  '2009-05-16 22:22:45',\n",
       "  '2009-05-17 15:00:03',\n",
       "  '2009-05-18 14:26:00',\n",
       "  '2009-05-19 17:43:39',\n",
       "  '2009-05-20 13:25:39',\n",
       "  '2009-05-20 22:29:47',\n",
       "  '2009-05-22 02:59:39',\n",
       "  '2009-05-22 16:28:34',\n",
       "  '2009-05-23 16:11:19',\n",
       "  '2009-05-26 14:42:01',\n",
       "  '2009-05-27 14:18:52',\n",
       "  '2009-05-28 18:03:34'),\n",
       " ('Be sure to tune in and watch Donald Trump on Late Night with David Letterman as he presents the Top Ten List tonight!',\n",
       "  'Donald Trump will be appearing on The View tomorrow morning to discuss Celebrity Apprentice and his new book Think Like A Champion!',\n",
       "  'Donald Trump reads Top Ten Financial Tips on Late Show with David Letterman: http://tinyurl.com/ooafwn - Very funny!',\n",
       "  'New Blog Post: Celebrity Apprentice Finale and Lessons Learned Along the Way: http://tinyurl.com/qlux5e',\n",
       "  'My persona will never be that of a wallflower - I’d rather build walls than cling to them --Donald J. Trump',\n",
       "  'Miss USA Tara Conner will not be fired - \"I\\'ve always been a believer in second chances.\" says Donald Trump',\n",
       "  'Listen to an interview with Donald Trump discussing his new book Think Like A Champion: http://tinyurl.com/qs24vl',\n",
       "  'Strive for wholeness and keep your sense of wonder intact. --Donald J. Trump http://tinyurl.com/pqpfvm',\n",
       "  'Enter the \"Think Like A Champion\" signed book and keychain contest:http://www.trumpthinklikeachampion.com/contest/',\n",
       "  \"When the achiever achieves it's not a plateau it’s a beginning. --Donald J. Trump http://tinyurl.com/pqpfvm\",\n",
       "  \"Don’t be afraid of being unique - it's like being afraid of your best self. --Donald J. Trump http://tinyurl.com/pqpfvm\",\n",
       "  \"We win in our lives by having a champion's view of each moment. --Donald J. Trump http://tinyurl.com/pqpfvm\",\n",
       "  '...these days...we could all use a little of the power of Trumpative thinking. –BarnesandNoble.com http://tinyurl.com/pqpfvm',\n",
       "  'Always know you could be on the precipice of something great. --Donald J. Trump http://tinyurl.com/pqpfvm',\n",
       "  'Read a great interview with Donald Trump that appeared in The New York Times Magazine: http://tinyurl.com/qsx4o6',\n",
       "  'Keep it fast short and direct - whatever it is. --Donald J. Trump http://tinyurl.com/pqpfvm',\n",
       "  'Don\\'t forget to enter the \"Think Like A Champion\" signed book and keychain contest: http://www.trumpthinklikeachampion.com/contest',\n",
       "  'Did you know Donald Trump is on Facebook? http://www.facebook.com/DonaldTrump - Become a fan today!',\n",
       "  'Your higher self is in direct opposition to your comfort zone. --Donald J. Trump http://tinyurl.com/pqpfvm',\n",
       "  'Read an excerpt from Think Like A Champion by Donald J. Trump: http://bit.ly/11FHpR',\n",
       "  'You have to know when to call it quits and when to keep moving forward. --Donald J. Trump http://www.trumpthinklikeachampion.com')]"
      ]
     },
     "execution_count": 99,
     "metadata": {},
     "output_type": "execute_result"
    }
   ],
   "source": [
    "#one_window = tweets_by_year[ 0 ]\n",
    "one_month = tweets_by_month[ 0 ]\n",
    "one_month_list = list( zip( *one_month ) )\n",
    "one_month_list\n",
    "# unzips list: https://stackoverflow.com/questions/12974474/how-to-unzip-a-list-of-tuples-into-individual-lists\n",
    "# dates, months = zip( *one_month )\n",
    "# dates"
   ]
  },
  {
   "cell_type": "code",
   "execution_count": 104,
   "metadata": {
    "collapsed": false
   },
   "outputs": [
    {
     "name": "stdout",
     "output_type": "stream",
     "text": [
      "2009-05-04 18:54:25\n",
      "Be sure to tune in and watch Donald Trump on Late Night with David Letterman as he presents the Top Ten List tonight!\n"
     ]
    }
   ],
   "source": [
    "print( one_month_list[ 0 ][ 0 ] )\n",
    "print( one_month_list[ 1 ][ 0 ] )"
   ]
  },
  {
   "cell_type": "code",
   "execution_count": 93,
   "metadata": {
    "collapsed": false
   },
   "outputs": [
    {
     "name": "stdout",
     "output_type": "stream",
     "text": [
      "112\n",
      "<class 'pandas.core.groupby.DataFrameGroupBy'>\n",
      "[(2009, 5), (2009, 6), (2009, 7), (2009, 8), (2009, 9), (2009, 10), (2009, 11), (2009, 12), (2010, 1), (2010, 2), (2010, 3), (2010, 4), (2010, 5), (2010, 6), (2010, 7), (2010, 8), (2010, 9), (2010, 10), (2010, 11), (2010, 12), (2011, 1), (2011, 2), (2011, 3), (2011, 4), (2011, 5), (2011, 6), (2011, 7), (2011, 8), (2011, 9), (2011, 10), (2011, 11), (2011, 12), (2012, 1), (2012, 2), (2012, 3), (2012, 4), (2012, 5), (2012, 6), (2012, 7), (2012, 8), (2012, 9), (2012, 10), (2012, 11), (2012, 12), (2013, 1), (2013, 2), (2013, 3), (2013, 4), (2013, 5), (2013, 6), (2013, 7), (2013, 8), (2013, 9), (2013, 10), (2013, 11), (2013, 12), (2014, 1), (2014, 2), (2014, 3), (2014, 4), (2014, 5), (2014, 6), (2014, 7), (2014, 8), (2014, 9), (2014, 10), (2014, 11), (2014, 12), (2015, 1), (2015, 2), (2015, 3), (2015, 4), (2015, 5), (2015, 6), (2015, 7), (2015, 8), (2015, 9), (2015, 10), (2015, 11), (2015, 12), (2016, 1), (2016, 2), (2016, 3), (2016, 4), (2016, 5), (2016, 6), (2016, 7), (2016, 8), (2016, 9), (2016, 10), (2016, 11), (2016, 12), (2017, 1), (2017, 2), (2017, 3), (2017, 4), (2017, 5), (2017, 6), (2017, 7), (2017, 8), (2017, 9), (2017, 10), (2017, 11), (2017, 12), (2018, 1), (2018, 2), (2018, 3), (2018, 4), (2018, 5), (2018, 6), (2018, 7), (2018, 8)]\n"
     ]
    }
   ],
   "source": [
    "tweets_one_month = None\n",
    "\n",
    "tweets_grp_keys = []\n",
    "for year_month, grouped in tweets_grp:\n",
    "    #year, month = year_month\n",
    "    #print( year, month )\n",
    "    tweets_grp_keys.append( year_month )\n",
    "    \n",
    "print( len( tweets_grp_keys ) )\n",
    "print( type( tweets_grp ) )\n",
    "\n",
    "print( tweets_grp_keys )\n",
    "\n",
    "# for month, grouped in tweets_grp:\n",
    "#     #print( grouped.head() )\n",
    "#     print( month )\n",
    "#     tweets_one_month = grouped[ [ \"text\", \"created_at\" ] ]\n",
    "#     print( tweets_one_month.head() )\n",
    "    \n",
    "    \n",
    "    \n",
    "    "
   ]
  },
  {
   "cell_type": "code",
   "execution_count": null,
   "metadata": {
    "collapsed": true
   },
   "outputs": [],
   "source": []
  },
  {
   "cell_type": "code",
   "execution_count": null,
   "metadata": {
    "collapsed": true
   },
   "outputs": [],
   "source": []
  }
 ],
 "metadata": {
  "kernelspec": {
   "display_name": "Python 3",
   "language": "python",
   "name": "python3"
  },
  "language_info": {
   "codemirror_mode": {
    "name": "ipython",
    "version": 3
   },
   "file_extension": ".py",
   "mimetype": "text/x-python",
   "name": "python",
   "nbconvert_exporter": "python",
   "pygments_lexer": "ipython3",
   "version": "3.5.1"
  }
 },
 "nbformat": 4,
 "nbformat_minor": 0
}

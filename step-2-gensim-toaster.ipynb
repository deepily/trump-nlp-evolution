{
 "cells": [
  {
   "cell_type": "markdown",
   "metadata": {},
   "source": [
    "## Gensim Toaster"
   ]
  },
  {
   "cell_type": "code",
   "execution_count": 3,
   "metadata": {},
   "outputs": [
    {
     "name": "stdout",
     "output_type": "stream",
     "text": [
      "importing Jupyter notebook from /data/include/www.deepily.com/datascience/trump-nlp-evolution/deepily/util.ipynb\n",
      "2018.12.17 11:57\n"
     ]
    }
   ],
   "source": [
    "# Used to import other notebooks: https://pypi.org/project/import-ipynb/\n",
    "import import_ipynb\n",
    "import deepily.util as dp_util\n",
    "from gensim.summarization import summarize, summarize_corpus, keywords\n",
    "from gensim.summarization.textcleaner import clean_text_by_sentences"
   ]
  },
  {
   "cell_type": "code",
   "execution_count": 4,
   "metadata": {},
   "outputs": [
    {
     "name": "stdout",
     "output_type": "stream",
     "text": [
      "2018.12.17 11:59\n",
      "2018.12.17 11:59\n",
      "Time to process: [0.01018524169921875] seconds\n",
      "22322\n"
     ]
    },
    {
     "data": {
      "text/plain": [
       "'Just met with UN Secretary-General António Guterres who is working hard to “Make the United Nations Great Again.” When the UN does more to solve conflicts around the world it means the U.S. has less to do and we save money. @NikkiHaley is doing a fantastic job! https://t.co/pqUv6cyH2z\\n'"
      ]
     },
     "execution_count": 4,
     "metadata": {},
     "output_type": "execute_result"
    }
   ],
   "source": [
    "# http://cmdlinetips.com/2011/08/three-ways-to-read-a-text-file-line-by-line-in-python/\n",
    "def load_doc_by_line( filename ):\n",
    "    \n",
    "    # Open the file with read only permit\n",
    "    file = open( filename, \"r\" )\n",
    "    \n",
    "    # use readlines to read all lines in the file\n",
    "    # The variable \"lines\" is a list containing all lines in the file\n",
    "    lines = file.readlines()\n",
    "    \n",
    "    # close the file after reading the lines.\n",
    "    file.close()\n",
    "    \n",
    "    return lines\n",
    "\n",
    "start_time = dp_util.get_time()\n",
    "in_filename = \"../texts/trump-tweets.txt\"\n",
    "tweets = load_doc_by_line( in_filename )\n",
    "dp_util.print_time( start_time, dp_util.get_time() )\n",
    "\n",
    "print( len( tweets ) )\n",
    "tweets[ 0 ]"
   ]
  },
  {
   "cell_type": "markdown",
   "metadata": {},
   "source": [
    "### Extract Key Words from Tweet"
   ]
  },
  {
   "cell_type": "code",
   "execution_count": 14,
   "metadata": {},
   "outputs": [
    {
     "name": "stdout",
     "output_type": "stream",
     "text": [
      "America is a Nation that believes in the power of redemption. America is a Nation that believes in second chances - and America is a Nation that believes that the best is always yet to come! #PrisonReform https://t.co/Yk5UJUYgHN\n",
      "\n",
      "prisonreform\n"
     ]
    }
   ],
   "source": [
    "tweet = tweets[ 1 ]\n",
    "print( tweet )\n",
    "\n",
    "keywords_list = keywords( tweet ).split( \"\\n\" )\n",
    "\n",
    "for word in keywords_list: \n",
    "    print( word )"
   ]
  },
  {
   "cell_type": "markdown",
   "metadata": {},
   "source": [
    "### Get Summary --or-- Keywords If Unable to Summarize"
   ]
  },
  {
   "cell_type": "code",
   "execution_count": 21,
   "metadata": {},
   "outputs": [
    {
     "name": "stdout",
     "output_type": "stream",
     "text": [
      "\n",
      "---------------------------------\n",
      "Original: Just met with UN Secretary-General António Guterres who is working hard to “Make the United Nations Great Again.” When the UN does more to solve conflicts around the world it means the U.S. has less to do and we save money. @NikkiHaley is doing a fantastic job! https://t.co/pqUv6cyH2z\n",
      "\n",
      "\n",
      "Summary: Just met with UN Secretary-General António Guterres who is working hard to “Make the United Nations Great Again.” When the UN does more to solve conflicts around the world it means the U.S. has less to do and we save money.\n",
      "\n",
      "---------------------------------\n",
      "Original: America is a Nation that believes in the power of redemption. America is a Nation that believes in second chances - and America is a Nation that believes that the best is always yet to come! #PrisonReform https://t.co/Yk5UJUYgHN\n",
      "\n",
      "\n",
      "Summary: #PrisonReform https://t.co/Yk5UJUYgHN\n",
      "\n",
      "---------------------------------\n",
      "Original: We grieve for the terrible loss of life and send our support and love to everyone affected by this horrible attack in Texas. To the students families teachers and personnel at Santa Fe High School – we are with you in this tragic hour and we will be with you forever... https://t.co/LtJ0D29Hsv\n",
      "\n",
      "\n",
      "Summary: We grieve for the terrible loss of life and send our support and love to everyone affected by this horrible attack in Texas.\n",
      "\n",
      "---------------------------------\n",
      "Original: School shooting in Texas. Early reports not looking good. God bless all!\n",
      "\n",
      "\n",
      "Summary: Early reports not looking good.\n",
      "\n",
      "---------------------------------\n",
      "Original: Reports are there was indeed at least one FBI representative implanted for political purposes into my campaign for president. It took place very early on and long before the phony Russia Hoax became a “hot” Fake News story. If true - all time biggest political scandal!\n",
      "\n",
      "\n",
      "keywords: ['political', 'russia', 'representative']\n",
      "\n",
      "---------------------------------\n",
      "Original: Why isn’t disgraced FBI official Andrew McCabe being investigated for the $700000 Crooked Hillary Democrats in Virginia led by Clinton best friend Terry M (under FBI investigation that they killed) gave to McCabe’s wife in her run for office? Then dropped case on Clinton!\n",
      "\n",
      "\n",
      "keywords: ['fbi', 'hillary', 'best']\n",
      "\n",
      "---------------------------------\n",
      "Original: Fake News Media had me calling Immigrants or Illegal Immigrants “Animals.” Wrong! They were begrudgingly forced to withdraw their stories. I referred to MS 13 Gang Members as “Animals” a big difference - and so true. Fake News got it purposely wrong as usual!\n",
      "\n",
      "\n",
      "Summary: Fake News Media had me calling Immigrants or Illegal Immigrants “Animals.” Wrong!\n",
      "They were begrudgingly forced to withdraw their stories.\n",
      "\n",
      "---------------------------------\n",
      "Original: “Apparently the DOJ put a Spy in the Trump Campaign. This has never been done before and by any means necessary they are out to frame Donald Trump for crimes he didn’t commit.”  David Asman  @LouDobbs @GreggJarrett   Really bad stuff!\n",
      "\n",
      "\n",
      "keywords: ['donald', 'trump']\n",
      "\n",
      "---------------------------------\n",
      "Original: It was my great honor to visit with our HEROES last night at Walter Reed Medical Center. There is nobody like them! https://t.co/fG5W1SwIHK\n",
      "\n",
      "\n",
      "Summary: It was my great honor to visit with our HEROES last night at Walter Reed Medical Center.\n",
      "\n",
      "---------------------------------\n",
      "Original: Tomorrow the House will vote on a strong Farm Bill which includes work requirements. We must support our Nation’s great farmers!\n",
      "\n",
      "\n",
      "keywords: ['work']\n"
     ]
    }
   ],
   "source": [
    "for tweet in tweets[ :10 ]:\n",
    "    \n",
    "    print( \"\\n---------------------------------\" )\n",
    "        \n",
    "    if len( clean_text_by_sentences( tweet ) ) < 2:\n",
    "        print( \"TOO SHORT TO SUMMARIZE:\", tweet )\n",
    "    else:\n",
    "        print( \"Original:\", tweet )\n",
    "        print()\n",
    "        summary = summarize( tweet, ratio=0.5 )\n",
    "        if summary != '':\n",
    "            print( \"Summary:\", summary )\n",
    "        else:\n",
    "            print( \"keywords:\", keywords( tweet ).split( \"\\n\" ) )\n",
    "            \n"
   ]
  },
  {
   "cell_type": "code",
   "execution_count": null,
   "metadata": {},
   "outputs": [],
   "source": []
  }
 ],
 "metadata": {
  "kernelspec": {
   "display_name": "Python 3",
   "language": "python",
   "name": "python3"
  },
  "language_info": {
   "codemirror_mode": {
    "name": "ipython",
    "version": 3
   },
   "file_extension": ".py",
   "mimetype": "text/x-python",
   "name": "python",
   "nbconvert_exporter": "python",
   "pygments_lexer": "ipython3",
   "version": "3.6.4"
  }
 },
 "nbformat": 4,
 "nbformat_minor": 2
}

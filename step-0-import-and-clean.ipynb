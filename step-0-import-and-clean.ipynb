{
 "cells": [
  {
   "cell_type": "markdown",
   "metadata": {},
   "source": [
    "### Import and Clean Tweets"
   ]
  },
  {
   "cell_type": "code",
   "execution_count": 43,
   "metadata": {
    "collapsed": true
   },
   "outputs": [],
   "source": [
    "import pandas as pd\n",
    "import numpy as np"
   ]
  },
  {
   "cell_type": "code",
   "execution_count": 40,
   "metadata": {
    "collapsed": false
   },
   "outputs": [
    {
     "data": {
      "text/html": [
       "<div>\n",
       "<table border=\"1\" class=\"dataframe\">\n",
       "  <thead>\n",
       "    <tr style=\"text-align: right;\">\n",
       "      <th></th>\n",
       "      <th>text</th>\n",
       "      <th>created_at</th>\n",
       "    </tr>\n",
       "  </thead>\n",
       "  <tbody>\n",
       "    <tr>\n",
       "      <th>0</th>\n",
       "      <td>Be sure to tune in and watch Donald Trump on L...</td>\n",
       "      <td>05-04-2009 18:54:25</td>\n",
       "    </tr>\n",
       "    <tr>\n",
       "      <th>1</th>\n",
       "      <td>Donald Trump will be appearing on The View tom...</td>\n",
       "      <td>05-05-2009 01:00:10</td>\n",
       "    </tr>\n",
       "    <tr>\n",
       "      <th>2</th>\n",
       "      <td>Donald Trump reads Top Ten Financial Tips on L...</td>\n",
       "      <td>05-08-2009 13:38:08</td>\n",
       "    </tr>\n",
       "    <tr>\n",
       "      <th>3</th>\n",
       "      <td>New Blog Post: Celebrity Apprentice Finale and...</td>\n",
       "      <td>05-08-2009 20:40:15</td>\n",
       "    </tr>\n",
       "    <tr>\n",
       "      <th>4</th>\n",
       "      <td>My persona will never be that of a wallflower ...</td>\n",
       "      <td>05-12-2009 14:07:28</td>\n",
       "    </tr>\n",
       "  </tbody>\n",
       "</table>\n",
       "</div>"
      ],
      "text/plain": [
       "                                                text           created_at\n",
       "0  Be sure to tune in and watch Donald Trump on L...  05-04-2009 18:54:25\n",
       "1  Donald Trump will be appearing on The View tom...  05-05-2009 01:00:10\n",
       "2  Donald Trump reads Top Ten Financial Tips on L...  05-08-2009 13:38:08\n",
       "3  New Blog Post: Celebrity Apprentice Finale and...  05-08-2009 20:40:15\n",
       "4  My persona will never be that of a wallflower ...  05-12-2009 14:07:28"
      ]
     },
     "execution_count": 40,
     "metadata": {},
     "output_type": "execute_result"
    }
   ],
   "source": [
    "tweets = pd.read_csv( \"data/tweets.csv\", usecols=[ \"text\", \"created_at\" ] )\n",
    "tweets.head()"
   ]
  },
  {
   "cell_type": "code",
   "execution_count": 46,
   "metadata": {
    "collapsed": false
   },
   "outputs": [
    {
     "name": "stdout",
     "output_type": "stream",
     "text": [
      "<class 'pandas.core.frame.DataFrame'>\n",
      "Int64Index: 31632 entries, 0 to 31631\n",
      "Data columns (total 6 columns):\n",
      "text          31632 non-null object\n",
      "created_at    31632 non-null datetime64[ns]\n",
      "year          31632 non-null int32\n",
      "month         31632 non-null int32\n",
      "day           31632 non-null int32\n",
      "hour          31632 non-null int32\n",
      "dtypes: datetime64[ns](1), int32(4), object(1)\n",
      "memory usage: 1.2+ MB\n"
     ]
    }
   ],
   "source": [
    "# create year & month bins, and downcast to int32\n",
    "tweets.created_at = pd.to_datetime( tweets.created_at, infer_datetime_format=True, errors='coerce' )\n",
    "\n",
    "tweets[ \"year\" ] = tweets.created_at.dt.year\n",
    "tweets[ \"month\" ] = tweets.created_at.dt.month\n",
    "tweets[ \"day\" ] = tweets.created_at.dt.day\n",
    "tweets[ \"hour\" ] = tweets.created_at.dt.hour\n",
    "\n",
    "tweets.month = tweets.month.astype( np.int32 )\n",
    "tweets.year  = tweets.year.astype( np.int32 )\n",
    "tweets.day   = tweets.day.astype( np.int32 )\n",
    "tweets.hour   = tweets.hour.astype( np.int32 )\n",
    "\n",
    "tweets.info()"
   ]
  },
  {
   "cell_type": "code",
   "execution_count": 45,
   "metadata": {
    "collapsed": false
   },
   "outputs": [
    {
     "data": {
      "text/plain": [
       "text          31632\n",
       "created_at    31632\n",
       "year          31632\n",
       "month         31632\n",
       "day           31632\n",
       "hour          31632\n",
       "dtype: int64"
      ]
     },
     "execution_count": 45,
     "metadata": {},
     "output_type": "execute_result"
    }
   ],
   "source": [
    "tweets.count()"
   ]
  },
  {
   "cell_type": "code",
   "execution_count": 47,
   "metadata": {
    "collapsed": false
   },
   "outputs": [],
   "source": [
    "tweets.dropna( inplace=True )"
   ]
  },
  {
   "cell_type": "code",
   "execution_count": 48,
   "metadata": {
    "collapsed": false
   },
   "outputs": [
    {
     "data": {
      "text/plain": [
       "text          31632\n",
       "created_at    31632\n",
       "year          31632\n",
       "month         31632\n",
       "day           31632\n",
       "hour          31632\n",
       "dtype: int64"
      ]
     },
     "execution_count": 48,
     "metadata": {},
     "output_type": "execute_result"
    }
   ],
   "source": [
    "tweets.count()"
   ]
  },
  {
   "cell_type": "code",
   "execution_count": 75,
   "metadata": {
    "collapsed": false
   },
   "outputs": [
    {
     "data": {
      "text/plain": [
       "text     31629\n",
       "date     31629\n",
       "year     31629\n",
       "month    31629\n",
       "dtype: int64"
      ]
     },
     "execution_count": 75,
     "metadata": {},
     "output_type": "execute_result"
    }
   ],
   "source": [
    "tweets.count()"
   ]
  },
  {
   "cell_type": "code",
   "execution_count": 27,
   "metadata": {
    "collapsed": false
   },
   "outputs": [
    {
     "data": {
      "text/plain": [
       "2013    7173\n",
       "2015    6641\n",
       "2014    5340\n",
       "2016    3784\n",
       "2012    3190\n",
       "2017    2601\n",
       "2018    1940\n",
       "2011     765\n",
       "2010     142\n",
       "2009      56\n",
       "Name: year, dtype: int64"
      ]
     },
     "execution_count": 27,
     "metadata": {},
     "output_type": "execute_result"
    }
   ],
   "source": [
    "# how many per year?\n",
    "tweets[ 'year' ].value_counts()"
   ]
  },
  {
   "cell_type": "code",
   "execution_count": 49,
   "metadata": {
    "collapsed": false
   },
   "outputs": [
    {
     "data": {
      "text/plain": [
       "20    2586\n",
       "19    2374\n",
       "18    2023\n",
       "21    1783\n",
       "13    1767\n",
       "16    1653\n",
       "14    1646\n",
       "12    1645\n",
       "15    1614\n",
       "2     1585\n",
       "1     1495\n",
       "17    1483\n",
       "11    1458\n",
       "0     1290\n",
       "3     1268\n",
       "22    1240\n",
       "23    1174\n",
       "10     946\n",
       "4      713\n",
       "9      474\n",
       "5      470\n",
       "8      348\n",
       "6      324\n",
       "7      273\n",
       "Name: hour, dtype: int64"
      ]
     },
     "execution_count": 49,
     "metadata": {},
     "output_type": "execute_result"
    }
   ],
   "source": [
    "# how many by hour?\n",
    "tweets[ 'hour' ].value_counts()"
   ]
  },
  {
   "cell_type": "code",
   "execution_count": 35,
   "metadata": {
    "collapsed": false
   },
   "outputs": [
    {
     "data": {
      "text/plain": [
       "year  month\n",
       "2009  5         21\n",
       "      6         11\n",
       "      7          5\n",
       "      8          7\n",
       "      9          3\n",
       "      10         4\n",
       "      11         3\n",
       "      12         2\n",
       "2010  1          4\n",
       "      2          4\n",
       "      3         10\n",
       "      4         18\n",
       "      5         17\n",
       "      6         17\n",
       "      7         13\n",
       "      8         16\n",
       "      9         13\n",
       "      10         9\n",
       "      11        11\n",
       "      12        10\n",
       "2011  1          9\n",
       "      2         16\n",
       "      3         36\n",
       "      4          5\n",
       "      5         13\n",
       "      6         16\n",
       "      7         73\n",
       "      8         94\n",
       "      9        110\n",
       "      10       106\n",
       "              ... \n",
       "2016  3        404\n",
       "      4        251\n",
       "      5        298\n",
       "      6        234\n",
       "      7        378\n",
       "      8        299\n",
       "      9        257\n",
       "      10       467\n",
       "      11       173\n",
       "      12       138\n",
       "2017  1        214\n",
       "      2        154\n",
       "      3        147\n",
       "      4        152\n",
       "      5        155\n",
       "      6        212\n",
       "      7        244\n",
       "      8        267\n",
       "      9        306\n",
       "      10       290\n",
       "      11       261\n",
       "      12       199\n",
       "2018  1        147\n",
       "      2        175\n",
       "      3        171\n",
       "      4        257\n",
       "      5        259\n",
       "      6        266\n",
       "      7        336\n",
       "      8        329\n",
       "Name: month, dtype: int64"
      ]
     },
     "execution_count": 35,
     "metadata": {},
     "output_type": "execute_result"
    }
   ],
   "source": [
    "#tweets.groupby( [ \"year\", \"month\" ] ).count().reset_index()\n",
    "#tweets.groupby( [ \"year\" ] ).count().reset_index()\n",
    "\n",
    "tweets.groupby( ['year', 'month'] )[ 'month' ].count()"
   ]
  },
  {
   "cell_type": "code",
   "execution_count": 50,
   "metadata": {
    "collapsed": true
   },
   "outputs": [],
   "source": [
    "# write out as csv\n",
    "tweets.drop( ['created_at'] , axis=1, inplace=True )"
   ]
  },
  {
   "cell_type": "code",
   "execution_count": 51,
   "metadata": {
    "collapsed": false
   },
   "outputs": [
    {
     "data": {
      "text/html": [
       "<div>\n",
       "<table border=\"1\" class=\"dataframe\">\n",
       "  <thead>\n",
       "    <tr style=\"text-align: right;\">\n",
       "      <th></th>\n",
       "      <th>text</th>\n",
       "      <th>year</th>\n",
       "      <th>month</th>\n",
       "      <th>day</th>\n",
       "      <th>hour</th>\n",
       "    </tr>\n",
       "  </thead>\n",
       "  <tbody>\n",
       "    <tr>\n",
       "      <th>0</th>\n",
       "      <td>Be sure to tune in and watch Donald Trump on L...</td>\n",
       "      <td>2009</td>\n",
       "      <td>5</td>\n",
       "      <td>4</td>\n",
       "      <td>18</td>\n",
       "    </tr>\n",
       "    <tr>\n",
       "      <th>1</th>\n",
       "      <td>Donald Trump will be appearing on The View tom...</td>\n",
       "      <td>2009</td>\n",
       "      <td>5</td>\n",
       "      <td>5</td>\n",
       "      <td>1</td>\n",
       "    </tr>\n",
       "    <tr>\n",
       "      <th>2</th>\n",
       "      <td>Donald Trump reads Top Ten Financial Tips on L...</td>\n",
       "      <td>2009</td>\n",
       "      <td>5</td>\n",
       "      <td>8</td>\n",
       "      <td>13</td>\n",
       "    </tr>\n",
       "    <tr>\n",
       "      <th>3</th>\n",
       "      <td>New Blog Post: Celebrity Apprentice Finale and...</td>\n",
       "      <td>2009</td>\n",
       "      <td>5</td>\n",
       "      <td>8</td>\n",
       "      <td>20</td>\n",
       "    </tr>\n",
       "    <tr>\n",
       "      <th>4</th>\n",
       "      <td>My persona will never be that of a wallflower ...</td>\n",
       "      <td>2009</td>\n",
       "      <td>5</td>\n",
       "      <td>12</td>\n",
       "      <td>14</td>\n",
       "    </tr>\n",
       "  </tbody>\n",
       "</table>\n",
       "</div>"
      ],
      "text/plain": [
       "                                                text  year  month  day  hour\n",
       "0  Be sure to tune in and watch Donald Trump on L...  2009      5    4    18\n",
       "1  Donald Trump will be appearing on The View tom...  2009      5    5     1\n",
       "2  Donald Trump reads Top Ten Financial Tips on L...  2009      5    8    13\n",
       "3  New Blog Post: Celebrity Apprentice Finale and...  2009      5    8    20\n",
       "4  My persona will never be that of a wallflower ...  2009      5   12    14"
      ]
     },
     "execution_count": 51,
     "metadata": {},
     "output_type": "execute_result"
    }
   ],
   "source": [
    "tweets.head()"
   ]
  },
  {
   "cell_type": "code",
   "execution_count": 52,
   "metadata": {
    "collapsed": true
   },
   "outputs": [],
   "source": [
    "tweets.to_csv( \"data/tweets-clean.csv\" )"
   ]
  },
  {
   "cell_type": "code",
   "execution_count": null,
   "metadata": {
    "collapsed": true
   },
   "outputs": [],
   "source": []
  }
 ],
 "metadata": {
  "anaconda-cloud": {},
  "kernelspec": {
   "display_name": "Python 3",
   "language": "python",
   "name": "python3"
  },
  "language_info": {
   "codemirror_mode": {
    "name": "ipython",
    "version": 3
   },
   "file_extension": ".py",
   "mimetype": "text/x-python",
   "name": "python",
   "nbconvert_exporter": "python",
   "pygments_lexer": "ipython3",
   "version": "3.5.1"
  }
 },
 "nbformat": 4,
 "nbformat_minor": 1
}

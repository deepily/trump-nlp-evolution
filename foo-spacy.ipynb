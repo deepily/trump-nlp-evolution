{
 "cells": [
  {
   "cell_type": "markdown",
   "metadata": {},
   "source": [
    "### Debug Spacy Not Appearing on Jupyter's Classpath"
   ]
  },
  {
   "cell_type": "code",
   "execution_count": 1,
   "metadata": {},
   "outputs": [],
   "source": [
    "import sys\n",
    "import spacy"
   ]
  },
  {
   "cell_type": "code",
   "execution_count": 2,
   "metadata": {},
   "outputs": [
    {
     "name": "stdout",
     "output_type": "stream",
     "text": [
      "['', '/home/ruiz.richard.p/trump-nlp-evolution', '/home/ruiz.richard.p/anaconda3/lib/python37.zip', '/home/ruiz.richard.p/anaconda3/lib/python3.7', '/home/ruiz.richard.p/anaconda3/lib/python3.7/lib-dynload', '/home/ruiz.richard.p/anaconda3/lib/python3.7/site-packages', '/home/ruiz.richard.p/anaconda3/lib/python3.7/site-packages/IPython/extensions', '/home/ruiz.richard.p/.ipython']\n"
     ]
    }
   ],
   "source": [
    "import sys\n",
    "print( sys.path )"
   ]
  },
  {
   "cell_type": "code",
   "execution_count": 3,
   "metadata": {},
   "outputs": [
    {
     "name": "stdout",
     "output_type": "stream",
     "text": [
      "3\n",
      "7\n",
      "0\n"
     ]
    }
   ],
   "source": [
    "print( sys.version_info[0] )\n",
    "print( sys.version_info[1] )\n",
    "print( sys.version_info[2] )"
   ]
  },
  {
   "cell_type": "code",
   "execution_count": null,
   "metadata": {
    "collapsed": true
   },
   "outputs": [],
   "source": []
  },
  {
   "cell_type": "code",
   "execution_count": null,
   "metadata": {
    "collapsed": true
   },
   "outputs": [],
   "source": []
  }
 ],
 "metadata": {
  "kernelspec": {
   "display_name": "Python 3",
   "language": "python",
   "name": "python3"
  },
  "language_info": {
   "codemirror_mode": {
    "name": "ipython",
    "version": 3
   },
   "file_extension": ".py",
   "mimetype": "text/x-python",
   "name": "python",
   "nbconvert_exporter": "python",
   "pygments_lexer": "ipython3",
   "version": "3.7.0"
  }
 },
 "nbformat": 4,
 "nbformat_minor": 1
}
